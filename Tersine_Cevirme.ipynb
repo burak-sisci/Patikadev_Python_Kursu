{
  "nbformat": 4,
  "nbformat_minor": 0,
  "metadata": {
    "colab": {
      "provenance": []
    },
    "kernelspec": {
      "name": "python3",
      "display_name": "Python 3"
    },
    "language_info": {
      "name": "python"
    }
  },
  "cells": [
    {
      "cell_type": "code",
      "source": [
        "# 2- Verilen listenin içindeki elemanları tersine döndüren bir fonksiyon yazın. Eğer listenin içindeki elemanlar da liste içeriyorsa onların elemanlarını da tersine döndürün.\n",
        "# Örnek olarak:\n",
        "# input: [[1, 2], [3, 4], [5, 6, 7]]\n",
        "# output: [[[7, 6, 5], [4, 3], [2, 1]]"
      ],
      "metadata": {
        "id": "WecSWIZrDArd"
      },
      "execution_count": 12,
      "outputs": []
    },
    {
      "cell_type": "code",
      "source": [
        "def tersine_cevirme(liste):\n",
        "  for eleman in liste:\n",
        "    if isinstance(eleman, list):\n",
        "      tersine_cevirme(eleman)\n",
        "  liste.reverse()\n",
        "  return liste"
      ],
      "metadata": {
        "id": "kroIcQ9sDLKX"
      },
      "execution_count": 23,
      "outputs": []
    },
    {
      "cell_type": "code",
      "source": [
        "girdi = [[1, 2], [3, 4], [5, 6, 7, [1, 2, [3, 4]]]]\n",
        "tersine_cevirme(girdi)"
      ],
      "metadata": {
        "colab": {
          "base_uri": "https://localhost:8080/"
        },
        "id": "eIscSkkmGKjQ",
        "outputId": "5f1d8803-3d76-4dfb-d9ae-2c4aebcb09e5"
      },
      "execution_count": 24,
      "outputs": [
        {
          "output_type": "execute_result",
          "data": {
            "text/plain": [
              "[[[[4, 3], 2, 1], 7, 6, 5], [4, 3], [2, 1]]"
            ]
          },
          "metadata": {},
          "execution_count": 24
        }
      ]
    },
    {
      "cell_type": "code",
      "source": [
        "girdi = [[1, 2], [3, 4], [5, 6, 7]]\n",
        "tersine_cevirme(girdi)"
      ],
      "metadata": {
        "colab": {
          "base_uri": "https://localhost:8080/"
        },
        "id": "XfhZWIAMGqc4",
        "outputId": "b37258b0-f54d-49a6-da8a-a2e44fb79e1b"
      },
      "execution_count": 25,
      "outputs": [
        {
          "output_type": "execute_result",
          "data": {
            "text/plain": [
              "[[7, 6, 5], [4, 3], [2, 1]]"
            ]
          },
          "metadata": {},
          "execution_count": 25
        }
      ]
    }
  ]
}