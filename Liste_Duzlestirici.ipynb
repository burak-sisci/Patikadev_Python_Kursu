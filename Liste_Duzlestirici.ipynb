{
  "nbformat": 4,
  "nbformat_minor": 0,
  "metadata": {
    "colab": {
      "provenance": []
    },
    "kernelspec": {
      "name": "python3",
      "display_name": "Python 3"
    },
    "language_info": {
      "name": "python"
    }
  },
  "cells": [
    {
      "cell_type": "code",
      "execution_count": 15,
      "metadata": {
        "id": "coG3IJbF7tSa"
      },
      "outputs": [],
      "source": [
        "# 1- Bir listeyi düzleştiren (flatten) fonksiyon yazın. Elemanları birden çok katmanlı listelerden ([[3],2] gibi) oluşabileceği gibi, non-scalar verilerden de oluşabilir.\n",
        "# Örnek olarak:\n",
        "# input: [[1,'a',['cat'],2],[[[3]],'dog'],4,5]\n",
        "# output: [1,'a','cat',2,3,'dog',4,5]"
      ]
    },
    {
      "cell_type": "code",
      "source": [
        "def flatten(liste):\n",
        "  sonuc = list()\n",
        "  while liste:\n",
        "      eleman = liste.pop()\n",
        "      if isinstance(eleman, list):\n",
        "          liste.extend(eleman)\n",
        "      else:\n",
        "          sonuc.append(eleman)\n",
        "  return sonuc[::-1]"
      ],
      "metadata": {
        "id": "85DzVo7H80RA"
      },
      "execution_count": 16,
      "outputs": []
    },
    {
      "cell_type": "code",
      "source": [
        "input = [[1,'a',['cat'],2],[[[3]],'dog'],4,5]\n",
        "flatten(input)"
      ],
      "metadata": {
        "colab": {
          "base_uri": "https://localhost:8080/"
        },
        "id": "gynpIXaw-RIU",
        "outputId": "cf91e275-50bf-4115-a4a3-43db630651f7"
      },
      "execution_count": 17,
      "outputs": [
        {
          "output_type": "execute_result",
          "data": {
            "text/plain": [
              "[1, 'a', 'cat', 2, 3, 'dog', 4, 5]"
            ]
          },
          "metadata": {},
          "execution_count": 17
        }
      ]
    }
  ]
}